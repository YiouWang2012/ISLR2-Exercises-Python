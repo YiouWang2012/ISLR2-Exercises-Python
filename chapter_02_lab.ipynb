{
 "cells": [
  {
   "cell_type": "markdown",
   "metadata": {
    "collapsed": true,
    "pycharm": {
     "name": "#%% md\n"
    }
   },
   "source": [
    "# Chapter 2 Lab: Introduction to R\n",
    "Apparently this repo is meant to re-do everything in Python, will use this space to warm up and do some light-weight demonstration of numpy, pandas, ect. as I see equivalent to the R commands demonstrated in this lab\n",
    "# Basic Commands (2.3.1)"
   ]
  },
  {
   "cell_type": "code",
   "execution_count": 2,
   "outputs": [
    {
     "name": "stdout",
     "output_type": "stream",
     "text": [
      "[1 3 2 5]\n",
      "[1 4 3]\n",
      "3\n",
      "3\n",
      "[ 2 10  5]\n"
     ]
    }
   ],
   "source": [
    "# Create and Update \"Vector\"\n",
    "import numpy as np\n",
    "x = np.array([1, 3, 2, 5])\n",
    "print(x)\n",
    "x = np.array([1, 6, 2])\n",
    "y = np.array([1, 4, 3])\n",
    "print(y)\n",
    "print(len(x))\n",
    "print(len(y))\n",
    "print(x + y)"
   ],
   "metadata": {
    "collapsed": false,
    "pycharm": {
     "name": "#%%\n"
    }
   }
  },
  {
   "cell_type": "code",
   "execution_count": 7,
   "outputs": [
    {
     "name": "stdout",
     "output_type": "stream",
     "text": [
      "[[1 2]\n",
      " [3 4]]\n",
      "[[1.         1.41421356]\n",
      " [1.73205081 2.        ]]\n",
      "[[ 1  4]\n",
      " [ 9 16]]\n"
     ]
    }
   ],
   "source": [
    "# create square matrix and do point-wise computation\n",
    "x = np.array([[1, 2], [3, 4]])\n",
    "print(x)\n",
    "print(np.sqrt(x))\n",
    "print(np.power(x, 2))"
   ],
   "metadata": {
    "collapsed": false,
    "pycharm": {
     "name": "#%%\n"
    }
   }
  },
  {
   "cell_type": "code",
   "execution_count": null,
   "outputs": [],
   "source": [],
   "metadata": {
    "collapsed": false,
    "pycharm": {
     "name": "#%%\n"
    }
   }
  }
 ],
 "metadata": {
  "kernelspec": {
   "display_name": "Python 3",
   "language": "python",
   "name": "python3"
  },
  "language_info": {
   "codemirror_mode": {
    "name": "ipython",
    "version": 2
   },
   "file_extension": ".py",
   "mimetype": "text/x-python",
   "name": "python",
   "nbconvert_exporter": "python",
   "pygments_lexer": "ipython2",
   "version": "2.7.6"
  }
 },
 "nbformat": 4,
 "nbformat_minor": 0
}